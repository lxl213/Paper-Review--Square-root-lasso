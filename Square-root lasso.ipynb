{
 "cells": [
  {
   "cell_type": "code",
   "execution_count": 1,
   "metadata": {},
   "outputs": [
    {
     "name": "stdout",
     "output_type": "stream",
     "text": [
      "Requirement already satisfied: picos in /opt/conda/lib/python3.7/site-packages (2.0.25)\r\n",
      "Requirement already satisfied: CVXOPT>=1.1.4 in /opt/conda/lib/python3.7/site-packages (from picos) (1.2.5)\r\n",
      "Requirement already satisfied: numpy>=1.6.2 in /opt/conda/lib/python3.7/site-packages (from picos) (1.17.3)\r\n"
     ]
    }
   ],
   "source": [
    "! pip install picos"
   ]
  },
  {
   "cell_type": "code",
   "execution_count": 2,
   "metadata": {},
   "outputs": [],
   "source": [
    "import pandas as pd\n",
    "import numpy as np\n",
    "import picos\n",
    "import math\n",
    "import scipy.stats \n",
    "import seaborn as sns\n",
    "from picos import RealVariable, BinaryVariable\n",
    "from picos import Constant\n",
    "from picos import Problem\n",
    "import cvxopt as cvx"
   ]
  },
  {
   "cell_type": "code",
   "execution_count": 3,
   "metadata": {},
   "outputs": [],
   "source": [
    "alpha=0.05\n",
    "c=1.1\n",
    "p=500# size of regressor\n",
    "n=100# size of sample"
   ]
  },
  {
   "cell_type": "markdown",
   "metadata": {},
   "source": [
    "**$X: $**"
   ]
  },
  {
   "cell_type": "code",
   "execution_count": 22,
   "metadata": {},
   "outputs": [
    {
     "data": {
      "text/plain": [
       "array([[-1.36675798, -0.74284565, -0.57748888, ...,  1.41172344,\n",
       "         1.43029807,  0.81551023],\n",
       "       [-0.28201617, -0.7585696 , -0.5244693 , ...,  0.55637155,\n",
       "        -0.18269256,  0.30013636],\n",
       "       [ 0.34360411, -0.00320537,  0.06528472, ..., -0.61595947,\n",
       "        -1.83206508,  0.47636161],\n",
       "       ...,\n",
       "       [-0.37381368, -0.06126036, -0.46648672, ..., -0.08628319,\n",
       "         0.42041327,  1.11775372],\n",
       "       [-1.65530135, -1.40439862,  0.85745825, ..., -0.93364097,\n",
       "        -0.75007354, -0.66835894],\n",
       "       [ 1.36345907,  0.91257985, -0.13424866, ...,  1.26498228,\n",
       "         1.56960217,  1.07894828]])"
      ]
     },
     "execution_count": 22,
     "metadata": {},
     "output_type": "execute_result"
    }
   ],
   "source": [
    "X=pd.read_csv(\"x.csv\",index_col=0)\n",
    "X1=X.values\n",
    "X=cvx.matrix(X1)\n",
    "X1"
   ]
  },
  {
   "cell_type": "markdown",
   "metadata": {},
   "source": [
    "$E_n(x x^{'})=\\frac{\\Sigma x_ix_i^{'}}{n}=\\frac{X^{'}X}{n}$  \n"
   ]
  },
  {
   "cell_type": "code",
   "execution_count": 28,
   "metadata": {},
   "outputs": [],
   "source": [
    "E_n=np.dot(X1.T,X1)/n"
   ]
  },
  {
   "cell_type": "markdown",
   "metadata": {},
   "source": [
    "**$\\beta_{0}$**  \n",
    "set $\\beta_{0}=(1,1,1,1,1,0,0,0...)$"
   ]
  },
  {
   "cell_type": "code",
   "execution_count": 30,
   "metadata": {},
   "outputs": [],
   "source": [
    "belta_t=np.zeros(p)\n",
    "belta_t[:5]=1"
   ]
  },
  {
   "cell_type": "markdown",
   "metadata": {},
   "source": [
    "$y_i=X^{'}_i*\\beta_0+\\sigma \\epsilon_i$"
   ]
  },
  {
   "cell_type": "markdown",
   "metadata": {},
   "source": [
    "* $\\epsilon_i \\sim N(0,1)$"
   ]
  },
  {
   "cell_type": "code",
   "execution_count": 7,
   "metadata": {},
   "outputs": [],
   "source": [
    "def get_y0_data(sigma):\n",
    "    # input sigma\n",
    "    #generate y with e N(0,1)\n",
    "    epsilon=np.random.randn(n)\n",
    "    y=np.dot(X1,belta_t)+sigma*epsilon\n",
    "    return y"
   ]
  },
  {
   "cell_type": "markdown",
   "metadata": {},
   "source": [
    "* $\\epsilon_i \\sim \\frac{t_4}{\\sqrt{2}}$"
   ]
  },
  {
   "cell_type": "code",
   "execution_count": 8,
   "metadata": {},
   "outputs": [],
   "source": [
    "def get_y1_data(sigma):\n",
    "    #input sigma\n",
    "    #generate y with e t4/(2)^(1/2)\n",
    "    epsilon=scipy.stats.t.rvs(4,size=n)/2**(0.5)\n",
    "    y=np.dot(X1,belta_t)+sigma*epsilon\n",
    "    return y"
   ]
  },
  {
   "cell_type": "markdown",
   "metadata": {},
   "source": [
    "# square root lasso"
   ]
  },
  {
   "cell_type": "markdown",
   "metadata": {},
   "source": [
    "##  $$\\epsilon_i \\sim \\frac{t_4}{\\sqrt{2}}$$"
   ]
  },
  {
   "cell_type": "markdown",
   "metadata": {},
   "source": [
    "$$\\lambda=c\\bigwedge_{F}(1-\\alpha|X)$$"
   ]
  },
  {
   "cell_type": "markdown",
   "metadata": {},
   "source": [
    "compute the quantiles $$\\bigwedge_{F}(1-\\alpha|X)$$ by simulation"
   ]
  },
  {
   "cell_type": "code",
   "execution_count": 269,
   "metadata": {},
   "outputs": [],
   "source": [
    "def cal_S(X):\n",
    "    #input the sample matrix\n",
    "    #output a simulation of \\bigwedge\n",
    "    epi=scipy.stats.t.rvs(4,size=n)/2**(0.5)\n",
    "    epi=epi.reshape(n,-1)\n",
    "    xepi=X*epi\n",
    "    Exepi=sum(xepi)/n\n",
    "    Eepi2=sum(epi**2)/n\n",
    "    S=Exepi/(Eepi2**(1/2))\n",
    "    gamma=n*max(abs(S))\n",
    "    return gamma\n",
    "\n",
    "\n",
    " "
   ]
  },
  {
   "cell_type": "code",
   "execution_count": 270,
   "metadata": {},
   "outputs": [],
   "source": [
    "def cal_lambda_t(N=10):\n",
    "    #input simulation times N\n",
    "    #output lambda_t\n",
    "    lambda_t=0\n",
    "    for i in range(N):\n",
    "        t2=np.array([cal_S(X1) for i in range(10000)])\n",
    "        t2=np.sort(t2)\n",
    "        lambda_t=lambda_t+c*t2[9499]\n",
    "    lambda_t=lambda_t/N\n",
    "    return lambda_t"
   ]
  },
  {
   "cell_type": "code",
   "execution_count": 271,
   "metadata": {},
   "outputs": [],
   "source": [
    "lambda_t=cal_lambda_t(10)"
   ]
  },
  {
   "cell_type": "code",
   "execution_count": 246,
   "metadata": {},
   "outputs": [
    {
     "data": {
      "text/plain": [
       "42.763877264117625"
      ]
     },
     "execution_count": 246,
     "metadata": {},
     "output_type": "execute_result"
    }
   ],
   "source": [
    "lambda_t"
   ]
  },
  {
   "cell_type": "code",
   "execution_count": null,
   "metadata": {},
   "outputs": [],
   "source": []
  },
  {
   "cell_type": "code",
   "execution_count": 12,
   "metadata": {},
   "outputs": [],
   "source": [
    "def calculate_p_n(dbelta):\n",
    "    S=np.dot(np.dot(dbelta,E_n),dbelta)\n",
    "    delta=S**(1/2)\n",
    "    return delta"
   ]
  },
  {
   "cell_type": "code",
   "execution_count": 32,
   "metadata": {},
   "outputs": [
    {
     "data": {
      "text/plain": [
       "3.628782360898088"
      ]
     },
     "execution_count": 32,
     "metadata": {},
     "output_type": "execute_result"
    }
   ],
   "source": [
    "calculate_p_n(belta_t)"
   ]
  },
  {
   "cell_type": "code",
   "execution_count": 13,
   "metadata": {},
   "outputs": [],
   "source": [
    "def oracle_estimate(y2):\n",
    "    x0=X1[:,:5]\n",
    "    A=np.dot(x0.T,x0)\n",
    "    A_i=np.linalg.inv(A)\n",
    "    beta=np.dot(np.dot(A_i,x0.T),y2)\n",
    "    beta0=np.zeros(p)\n",
    "    beta0[:5]=beta\n",
    "    dbeta=beta0-belta_t\n",
    "    delta=calculate_p_n(dbeta)\n",
    " # dbeta_o=sum((beta-belta_t[:5])**2)**(1/2)\n",
    "    return delta"
   ]
  },
  {
   "cell_type": "code",
   "execution_count": 27,
   "metadata": {},
   "outputs": [
    {
     "data": {
      "text/plain": [
       "0.3180648566961447"
      ]
     },
     "execution_count": 27,
     "metadata": {},
     "output_type": "execute_result"
    }
   ],
   "source": [
    "y2=get_y1_data(1)\n",
    "oracle_estimate(y2)"
   ]
  },
  {
   "cell_type": "code",
   "execution_count": 303,
   "metadata": {},
   "outputs": [
    {
     "name": "stdout",
     "output_type": "stream",
     "text": [
      "Second Order Cone Program\n",
      "  minimize t/10 + ⟨Lambda/n, belta+⟩ + ⟨Lambda/n, belta-⟩\n",
      "  over\n",
      "    1×1 real variable t\n",
      "    100×1 real variable V\n",
      "    500×1 real variable belta+, belta-\n",
      "  subject to\n",
      "    y[i] - x[i].T·belta+ + x[i].T·belta- = V[i] ∀ i ∈ [0…99]\n",
      "    ‖V‖ ≤ t\n",
      "    belta+ ≥ 0\n",
      "    belta- ≥ 0\n"
     ]
    }
   ],
   "source": [
    "P2=Problem()\n",
    "belta_plus=RealVariable(\"belta+\",p)\n",
    "belta_minus=RealVariable(\"belta-\",p)\n",
    "y_2=get_y1_data(1)\n",
    "delta_o=oracle_estimate(y_2)\n",
    "y_2=cvx.matrix(y_2)\n",
    "t=RealVariable(\"t\",1)\n",
    "x=[Constant('x[{0}].T'.format(i), X[i,:]) for i in range(n)]\n",
    "y=[Constant('y[{0}]'.format(i), y_2[i]) for i in range(n)]\n",
    "v = RealVariable('V',n)\n",
    "P2.add_list_of_constraints([(y[i]-x[i]*belta_plus+x[i]*belta_minus==v[i])  for i in range(n)])\n",
    "P2.add_constraint(abs(v)<=t)\n",
    "P2.add_constraint(belta_plus>=0)\n",
    "P2.add_constraint(belta_minus>=0)\n",
    "list1=np.zeros(p)\n",
    "list2=np.zeros(p)\n",
    "list1[::]=lambda_t/n\n",
    "    #list2[::]=lambda_v/n\n",
    "l1=Constant('Lambda/n',list1)\n",
    "    #l2=Constant('Lambda/n',list2)\n",
    "P2.set_objective('min',(t/10+(l1|belta_plus)+(l1|belta_minus)))\n",
    "print(P2)"
   ]
  },
  {
   "cell_type": "code",
   "execution_count": 249,
   "metadata": {},
   "outputs": [],
   "source": [
    "def square_lasso_t(sigma):\n",
    "    P2=Problem()\n",
    "    belta_plus=RealVariable(\"belta+\",p)\n",
    "    belta_minus=RealVariable(\"belta-\",p)\n",
    "    y_2=get_y1_data(sigma)\n",
    "    delta_o=oracle_estimate(y_2)\n",
    "    y_2=cvx.matrix(y_2)\n",
    "    t=RealVariable(\"t\",1)\n",
    "    x=[Constant('x[{0}].T'.format(i), X[i,:]) for i in range(n)]\n",
    "    y=[Constant('y[{0}]'.format(i), y_2[i]) for i in range(n)]\n",
    "    v = RealVariable('V',n)\n",
    "    P2.add_list_of_constraints([(y[i]-x[i]*belta_plus+x[i]*belta_minus==v[i])  for i in range(n)])\n",
    "    P2.add_constraint(abs(v)<=t)\n",
    "    P2.add_constraint(belta_plus>=0)\n",
    "    P2.add_constraint(belta_minus>=0)\n",
    "    list1=np.zeros(p)\n",
    "    list2=np.zeros(p)\n",
    "    list1[::]=lambda_t/n\n",
    "    #list2[::]=lambda_v/n\n",
    "    l1=Constant('Lambda/n',list1)\n",
    "    #l2=Constant('Lambda/n',list2)\n",
    "    P2.set_objective('min',(t/10+(l1|belta_plus)+(l1|belta_minus)))\n",
    "    P2.solve()\n",
    "    belta=belta_plus-belta_minus\n",
    "    #dbelta_n=abs(belta-belta_t).value\n",
    "    belta=np.array([belta[i].value for i in range(p)])\n",
    "    dbelta=belta-belta_t\n",
    "    delta_t=calculate_p_n(dbelta)\n",
    "    index=np.argwhere(abs(belta)>=0.0001)\n",
    "    return belta,index,t.value,delta_t,delta_o"
   ]
  },
  {
   "cell_type": "code",
   "execution_count": 228,
   "metadata": {},
   "outputs": [
    {
     "data": {
      "text/plain": [
       "(0.0, 0.0, 1.1817839465490343, 4.054618498021117)"
      ]
     },
     "execution_count": 228,
     "metadata": {},
     "output_type": "execute_result"
    }
   ],
   "source": [
    "calculate_average_t(1)"
   ]
  },
  {
   "cell_type": "code",
   "execution_count": 250,
   "metadata": {},
   "outputs": [],
   "source": [
    "def calculate_m_f(index):\n",
    "    index1=index.reshape(-1)\n",
    "    index1=index1.tolist()\n",
    "    if len(index)==0:\n",
    "        missing=5\n",
    "        sum_false=0\n",
    "    else:\n",
    "        sum_true=0\n",
    "        sum_false=0\n",
    "        for i in index1:\n",
    "            if(i  in range(5) ):\n",
    "                sum_true=sum_true+1\n",
    "            else: \n",
    "                sum_false=sum_false+1\n",
    "        missing=5-sum_true\n",
    "    return missing,sum_false"
   ]
  },
  {
   "cell_type": "code",
   "execution_count": 251,
   "metadata": {},
   "outputs": [],
   "source": [
    "def calculate_average_t(sigma,N=8):\n",
    "    miss=0\n",
    "    false=0\n",
    "    average_Q=0\n",
    "    average_risk=0\n",
    "    for i in range(N):\n",
    "        belta,index,t.value,dbelta_n,belta_o=square_lasso_t(sigma=sigma)\n",
    "        missing,sum_false=calculate_m_f(index)\n",
    "        miss=miss+missing\n",
    "        false=false+sum_false\n",
    "        average_Q=average_Q+t.value/(10*sigma)\n",
    "        average_risk=average_risk+dbelta_n/belta_o\n",
    "    miss=miss/N\n",
    "    false=false/N\n",
    "    average_Q=average_Q/N\n",
    "    average_risk=average_risk/N\n",
    "    return miss,false,average_Q,average_risk"
   ]
  },
  {
   "cell_type": "code",
   "execution_count": 257,
   "metadata": {},
   "outputs": [],
   "source": [
    "size=7\n",
    "sigma1=np.array([.25,.5,1,1.5,2.0,2.5,3.0])\n",
    "miss=np.zeros(size)\n",
    "false=np.zeros(size)\n",
    "average_Q=np.zeros(size)\n",
    "average_r=np.zeros(size)\n",
    "for i in range(size):\n",
    "    miss1,false1,average_Qi,average_risk=calculate_average_t(sigma1[i])\n",
    "    miss[i]=miss1\n",
    "    false[i]=false1\n",
    "    average_Q[i]=average_Qi\n",
    "    average_r[i]=average_risk"
   ]
  },
  {
   "cell_type": "code",
   "execution_count": 293,
   "metadata": {},
   "outputs": [
    {
     "data": {
      "text/plain": [
       "array([0.   , 0.   , 0.   , 0.   , 0.125, 0.125, 0.875])"
      ]
     },
     "execution_count": 293,
     "metadata": {},
     "output_type": "execute_result"
    }
   ],
   "source": [
    "miss"
   ]
  },
  {
   "cell_type": "code",
   "execution_count": 294,
   "metadata": {},
   "outputs": [
    {
     "data": {
      "text/plain": [
       "array([0.   , 0.   , 0.   , 0.125, 0.   , 0.   , 0.   ])"
      ]
     },
     "execution_count": 294,
     "metadata": {},
     "output_type": "execute_result"
    }
   ],
   "source": [
    "false"
   ]
  },
  {
   "cell_type": "code",
   "execution_count": 277,
   "metadata": {},
   "outputs": [
    {
     "data": {
      "text/plain": [
       "Text(0.5, 1.0, '$\\\\epsilon_i\\\\sim t(4)/2^{1/2}$')"
      ]
     },
     "execution_count": 277,
     "metadata": {},
     "output_type": "execute_result"
    },
    {
     "data": {
      "image/png": "[encoded data removed]",
      "text/plain": [
       "<Figure size 432x288 with 1 Axes>"
      ]
     },
     "metadata": {
      "needs_background": "light"
     },
     "output_type": "display_data"
    }
   ],
   "source": [
    "import matplotlib.pyplot as plt\n",
    "plt.plot(sigma1,miss,sigma1,false)\n",
    "plt.legend([\"missed from the true\",\"selected outside\"])\n",
    "plt.xlabel('$\\sigma$')\n",
    "plt.ylabel('Number of components')\n",
    "plt.grid()\n",
    "plt.title('$\\epsilon_i\\sim t(4)/2^{1/2}$')"
   ]
  },
  {
   "cell_type": "code",
   "execution_count": 272,
   "metadata": {},
   "outputs": [
    {
     "data": {
      "text/plain": [
       "array([1.27455153, 1.16680912, 1.22885233, 1.1741965 , 1.12828494,\n",
       "       1.1174895 , 1.16008542])"
      ]
     },
     "execution_count": 272,
     "metadata": {},
     "output_type": "execute_result"
    }
   ],
   "source": [
    "average_Q"
   ]
  },
  {
   "cell_type": "code",
   "execution_count": 284,
   "metadata": {},
   "outputs": [
    {
     "data": {
      "text/plain": [
       "Text(0.5, 1.0, '$\\\\epsilon_i\\\\sim t(4)/2^{1/2}$')"
      ]
     },
     "execution_count": 284,
     "metadata": {},
     "output_type": "execute_result"
    },
    {
     "data": {
      "image/png": "[encoded data removed]",
      "text/plain": [
       "<Figure size 432x288 with 1 Axes>"
      ]
     },
     "metadata": {
      "needs_background": "light"
     },
     "output_type": "display_data"
    }
   ],
   "source": [
    "plt.plot(sigma1,average_Q)\n",
    "plt.xlabel('$\\sigma$')\n",
    "plt.ylabel('$\\hat{Q}^{1/2}/\\sigma$')\n",
    "plt.ylim([1,1.3])\n",
    "plt.grid()\n",
    "plt.title('$\\epsilon_i\\sim t(4)/2^{1/2}$')"
   ]
  },
  {
   "cell_type": "code",
   "execution_count": 258,
   "metadata": {},
   "outputs": [
    {
     "data": {
      "text/plain": [
       "array([3.97836634, 3.68876387, 3.76872729, 4.21904542, 3.58079638,\n",
       "       4.26134759, 3.62340175])"
      ]
     },
     "execution_count": 258,
     "metadata": {},
     "output_type": "execute_result"
    }
   ],
   "source": [
    "average_r"
   ]
  },
  {
   "cell_type": "code",
   "execution_count": 282,
   "metadata": {},
   "outputs": [
    {
     "data": {
      "text/plain": [
       "Text(0.5, 1.0, '$\\\\epsilon_i\\\\sim t(4)/2^{1/2}$')"
      ]
     },
     "execution_count": 282,
     "metadata": {},
     "output_type": "execute_result"
    },
    {
     "data": {
      "image/png": "[encoded data removed]",
      "text/plain": [
       "<Figure size 432x288 with 1 Axes>"
      ]
     },
     "metadata": {
      "needs_background": "light"
     },
     "output_type": "display_data"
    }
   ],
   "source": [
    "plt.plot(sigma1,average_r)\n",
    "plt.xlabel('$\\sigma$')\n",
    "plt.ylabel('relative empirical risk')\n",
    "plt.ylim([0,4.5])\n",
    "plt.grid()\n",
    "plt.title('$\\epsilon_i\\sim t(4)/2^{1/2}$')"
   ]
  },
  {
   "cell_type": "markdown",
   "metadata": {},
   "source": [
    "## $\\epsilon_i \\sim N(0,1)$"
   ]
  },
  {
   "cell_type": "markdown",
   "metadata": {},
   "source": [
    "$$\n",
    "\\lambda=cn^{1/2}\\Phi^{-1}(1-\\frac{\\alpha}{2p})\n",
    "$$"
   ]
  },
  {
   "cell_type": "code",
   "execution_count": 9,
   "metadata": {},
   "outputs": [],
   "source": [
    "lambda_v=c*n**(1/2)*3.885"
   ]
  },
  {
   "cell_type": "code",
   "execution_count": 14,
   "metadata": {},
   "outputs": [],
   "source": [
    "def square_lasso_n(sigma):\n",
    "    P2=Problem()\n",
    "    belta_plus=RealVariable(\"belta+\",p)\n",
    "    belta_minus=RealVariable(\"belta-\",p)\n",
    "    y_2=get_y0_data(sigma)\n",
    "    delta_o=oracle_estimate(y_2)\n",
    "    y_2=cvx.matrix(y_2)\n",
    "    t=RealVariable(\"t\",1)\n",
    "    x=[Constant('x[{0}].T'.format(i), X[i,:]) for i in range(n)]\n",
    "    y=[Constant('y[{0}]'.format(i), y_2[i]) for i in range(n)]\n",
    "    v = RealVariable('V',n)\n",
    "    P2.add_list_of_constraints([(y[i]-x[i]*belta_plus+x[i]*belta_minus==v[i])  for i in range(n)])\n",
    "    P2.add_constraint(abs(v)<=t)\n",
    "    P2.add_constraint(belta_plus>=0)\n",
    "    P2.add_constraint(belta_minus>=0)\n",
    "    list1=np.zeros(p)\n",
    "    list2=np.zeros(p)\n",
    "    list1[::]=lambda_v/n\n",
    "    l1=Constant('Lambda/n',list1)\n",
    "    P2.set_objective('min',(t/10+(l1|belta_plus)+(l1|belta_minus)))\n",
    "    P2.solve()\n",
    "    belta=belta_plus-belta_minus\n",
    "    #dbelta_n=abs(belta-belta_t).value\n",
    "    belta=np.array([belta[i].value for i in range(p)])\n",
    "    dbelta=belta-belta_t\n",
    "    delta_t=calculate_p_n(dbelta)\n",
    "    index=np.argwhere(abs(belta)>=0.0001)\n",
    "    return belta,index,t.value,delta_t,delta_o"
   ]
  },
  {
   "cell_type": "code",
   "execution_count": 286,
   "metadata": {},
   "outputs": [],
   "source": [
    "def calculate_average_n(sigma,N=8):\n",
    "    miss=0\n",
    "    false=0\n",
    "    average_Q=0\n",
    "    average_risk=0\n",
    "    for i in range(N):\n",
    "        belta,index,t.value,dbelta_n,belta_o=square_lasso_n(sigma=sigma)\n",
    "        missing,sum_false=calculate_m_f(index)\n",
    "        miss=miss+missing\n",
    "        false=false+sum_false\n",
    "        average_Q=average_Q+t.value/(10*sigma)\n",
    "        average_risk=average_risk+dbelta_n/belta_o\n",
    "    miss=miss/N\n",
    "    false=false/N\n",
    "    average_Q=average_Q/N\n",
    "    average_risk=average_risk/N\n",
    "    return miss,false,average_Q,average_risk"
   ]
  },
  {
   "cell_type": "code",
   "execution_count": 287,
   "metadata": {},
   "outputs": [],
   "source": [
    "size=7\n",
    "sigma1=np.array([.25,.5,1,1.5,2.0,2.5,3.0])\n",
    "miss_n=np.zeros(size)\n",
    "false_n=np.zeros(size)\n",
    "average_Qn=np.zeros(size)\n",
    "average_rn=np.zeros(size)\n",
    "for i in range(size):\n",
    "    miss1,false1,average_Qi,average_risk=calculate_average_n(sigma1[i])\n",
    "    miss_n[i]=miss1\n",
    "    false_n[i]=false1\n",
    "    average_Qn[i]=average_Qi\n",
    "    average_rn[i]=average_risk"
   ]
  },
  {
   "cell_type": "code",
   "execution_count": 296,
   "metadata": {},
   "outputs": [
    {
     "data": {
      "text/plain": [
       "array([0.   , 0.   , 0.   , 0.   , 0.25 , 0.5  , 1.125])"
      ]
     },
     "execution_count": 296,
     "metadata": {},
     "output_type": "execute_result"
    }
   ],
   "source": [
    "miss_n"
   ]
  },
  {
   "cell_type": "code",
   "execution_count": 297,
   "metadata": {},
   "outputs": [
    {
     "data": {
      "text/plain": [
       "array([0.   , 0.   , 0.   , 0.   , 0.   , 0.   , 0.125])"
      ]
     },
     "execution_count": 297,
     "metadata": {},
     "output_type": "execute_result"
    }
   ],
   "source": [
    "false_n"
   ]
  },
  {
   "cell_type": "code",
   "execution_count": 299,
   "metadata": {},
   "outputs": [
    {
     "data": {
      "text/plain": [
       "Text(0.5, 1.0, '$\\\\epsilon_i\\\\sim N(0,1)$')"
      ]
     },
     "execution_count": 299,
     "metadata": {},
     "output_type": "execute_result"
    },
    {
     "data": {
      "image/png": "[encoded data removed]",
      "text/plain": [
       "<Figure size 432x288 with 1 Axes>"
      ]
     },
     "metadata": {
      "needs_background": "light"
     },
     "output_type": "display_data"
    }
   ],
   "source": [
    "import matplotlib.pyplot as plt\n",
    "plt.plot(sigma1,miss_n,sigma1,false_n)\n",
    "plt.legend([\"missed from the true\",\"selected outside\"])\n",
    "plt.xlabel('$\\sigma$')\n",
    "plt.ylabel('Number of components')\n",
    "plt.grid()\n",
    "plt.title('$\\epsilon_i\\sim N(0,1)$')"
   ]
  },
  {
   "cell_type": "code",
   "execution_count": 290,
   "metadata": {},
   "outputs": [
    {
     "data": {
      "text/plain": [
       "array([1.27455153, 1.16680912, 1.22885233, 1.1741965 , 1.12828494,\n",
       "       1.1174895 , 1.16008542])"
      ]
     },
     "execution_count": 290,
     "metadata": {},
     "output_type": "execute_result"
    }
   ],
   "source": [
    "average_Qn"
   ]
  },
  {
   "cell_type": "code",
   "execution_count": 289,
   "metadata": {},
   "outputs": [
    {
     "data": {
      "text/plain": [
       "Text(0.5, 1.0, '$\\\\epsilon_i\\\\sim N(0,1)$')"
      ]
     },
     "execution_count": 289,
     "metadata": {},
     "output_type": "execute_result"
    },
    {
     "data": {
      "image/png": "[encoded data removed]",
      "text/plain": [
       "<Figure size 432x288 with 1 Axes>"
      ]
     },
     "metadata": {
      "needs_background": "light"
     },
     "output_type": "display_data"
    }
   ],
   "source": [
    "plt.plot(sigma1,average_Qn)\n",
    "plt.xlabel('$\\sigma$')\n",
    "plt.ylabel('$\\hat{Q}^{1/2}/\\sigma$')\n",
    "plt.ylim([1,1.3])\n",
    "plt.grid()\n",
    "plt.title('$\\epsilon_i\\sim N(0,1)$')"
   ]
  },
  {
   "cell_type": "code",
   "execution_count": 291,
   "metadata": {},
   "outputs": [
    {
     "data": {
      "text/plain": [
       "array([3.97836634, 3.68876387, 3.76872729, 4.21904542, 3.58079638,\n",
       "       4.26134759, 3.62340175])"
      ]
     },
     "execution_count": 291,
     "metadata": {},
     "output_type": "execute_result"
    }
   ],
   "source": [
    "average_rn"
   ]
  },
  {
   "cell_type": "code",
   "execution_count": 301,
   "metadata": {},
   "outputs": [
    {
     "data": {
      "text/plain": [
       "Text(0.5, 1.0, '$\\\\epsilon_i\\\\sim N(0,1)$')"
      ]
     },
     "execution_count": 301,
     "metadata": {},
     "output_type": "execute_result"
    },
    {
     "data": {
      "image/png": "[encoded data removed]",
      "text/plain": [
       "<Figure size 432x288 with 1 Axes>"
      ]
     },
     "metadata": {
      "needs_background": "light"
     },
     "output_type": "display_data"
    }
   ],
   "source": [
    "plt.plot(sigma1,average_rn)\n",
    "plt.xlabel('$\\sigma$')\n",
    "plt.ylabel('relative empirical risk')\n",
    "plt.ylim([0,4.5])\n",
    "plt.grid()\n",
    "plt.title('$\\epsilon_i\\sim N(0,1)$')"
   ]
  }
 ],
 "metadata": {
  "kernelspec": {
   "display_name": "Python 3",
   "language": "python",
   "name": "python3"
  },
  "language_info": {
   "codemirror_mode": {
    "name": "ipython",
    "version": 3
   },
   "file_extension": ".py",
   "mimetype": "text/x-python",
   "name": "python",
   "nbconvert_exporter": "python",
   "pygments_lexer": "ipython3",
   "version": "3.7.8"
  },
  "toc": {
   "base_numbering": 1,
   "nav_menu": {},
   "number_sections": true,
   "sideBar": true,
   "skip_h1_title": false,
   "title_cell": "Table of Contents",
   "title_sidebar": "Contents",
   "toc_cell": false,
   "toc_position": {},
   "toc_section_display": true,
   "toc_window_display": false
  }
 },
 "nbformat": 4,
 "nbformat_minor": 2
}
